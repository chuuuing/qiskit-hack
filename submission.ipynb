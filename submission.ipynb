{
 "cells": [
  {
   "cell_type": "markdown",
   "id": "47b53365",
   "metadata": {},
   "source": [
    "# Introduction"
   ]
  },
  {
   "cell_type": "markdown",
   "id": "2e0067d3",
   "metadata": {},
   "source": [
    "Explain..."
   ]
  },
  {
   "cell_type": "markdown",
   "id": "e7bebc1f",
   "metadata": {},
   "source": [
    "# Idea"
   ]
  },
  {
   "cell_type": "markdown",
   "id": "ece5f05a",
   "metadata": {},
   "source": [
    "Explain what your idea is."
   ]
  },
  {
   "cell_type": "markdown",
   "id": "4fa48784",
   "metadata": {},
   "source": [
    "# Solution"
   ]
  },
  {
   "cell_type": "markdown",
   "id": "680bacbb",
   "metadata": {},
   "source": [
    "## \"Naive\"/default solution"
   ]
  },
  {
   "cell_type": "markdown",
   "id": "6208eba6",
   "metadata": {},
   "source": [
    "### \"Naive\" GHZ State"
   ]
  },
  {
   "cell_type": "code",
   "execution_count": 13,
   "id": "93d3ff46",
   "metadata": {
    "tags": []
   },
   "outputs": [
    {
     "name": "stdout",
     "output_type": "stream",
     "text": [
      "{'111': 483, '000': 541}\n"
     ]
    },
    {
     "data": {
      "text/plain": [
       "<qiskit.circuit.quantumcircuit.QuantumCircuit at 0x24eb8290e50>"
      ]
     },
     "execution_count": 13,
     "metadata": {},
     "output_type": "execute_result"
    }
   ],
   "source": [
    "from qiskit import QuantumCircuit, execute, Aer\n",
    "\n",
    "def generate_naive_ghz_state(qubit_amount):\n",
    "    qc = QuantumCircuit(qubit_amount)\n",
    "\n",
    "    qc.h(0)\n",
    "    qc.cx(0, 1)\n",
    "    qc.cx(0, 2)\n",
    "    qc.measure_all()\n",
    "\n",
    "    # Execute the circuit on a simulator\n",
    "    simulator = Aer.get_backend('qasm_simulator')\n",
    "    job = execute(qc, simulator, shots=1024)\n",
    "    result = job.result()\n",
    "    counts = result.get_counts(qc)\n",
    "\n",
    "    print(counts)\n",
    "    return qc\n",
    "\n",
    "    \n",
    "generate_naive_ghz_state(3)"
   ]
  },
  {
   "cell_type": "markdown",
   "id": "86c11dca",
   "metadata": {},
   "source": [
    "### \"Naive\" W State"
   ]
  },
  {
   "cell_type": "code",
   "execution_count": 20,
   "id": "dc1ca810",
   "metadata": {},
   "outputs": [
    {
     "name": "stdout",
     "output_type": "stream",
     "text": [
      "{'001': 123, '111': 149, '011': 112, '101': 129, '000': 511}\n"
     ]
    }
   ],
   "source": [
    "from qiskit import QuantumCircuit, execute, Aer\n",
    "\n",
    "def generate_naive_w_state(qubit_amount):\n",
    "    qc = QuantumCircuit(qubit_amount)\n",
    "\n",
    "    qc.h(0)\n",
    "    qc.x(1)\n",
    "    qc.x(2)\n",
    "    qc.ch(0, 1)\n",
    "    qc.ch(0, 2)\n",
    "    qc.x(1)\n",
    "    qc.x(2)\n",
    "\n",
    "    qc.measure_all()\n",
    "\n",
    "    simulator = Aer.get_backend('qasm_simulator')\n",
    "    job = execute(qc, simulator, shots=1024)\n",
    "    result = job.result()\n",
    "    counts = result.get_counts(qc)\n",
    "\n",
    "    print(counts)\n",
    "\n",
    "generate_naive_w_state(3)"
   ]
  },
  {
   "cell_type": "markdown",
   "id": "eee81e47",
   "metadata": {},
   "source": [
    "## Your solution"
   ]
  },
  {
   "cell_type": "markdown",
   "id": "29731f39",
   "metadata": {},
   "source": [
    "### Generalized GHZ State"
   ]
  },
  {
   "cell_type": "code",
   "execution_count": 41,
   "id": "dc44f59f",
   "metadata": {
    "tags": []
   },
   "outputs": [
    {
     "name": "stdout",
     "output_type": "stream",
     "text": [
      "[0, 2, 4, 6, 8] [1, 3, 5, 7]\n"
     ]
    },
    {
     "data": {
      "image/png": "[encoded data removed]",
      "text/plain": [
       "<Figure size 293.74x626.08 with 1 Axes>"
      ]
     },
     "execution_count": 41,
     "metadata": {},
     "output_type": "execute_result"
    }
   ],
   "source": [
    "from qiskit import QuantumCircuit, QuantumRegister, ClassicalRegister, execute, Aer\n",
    "\n",
    "def generate_generalized_ghz_state(qubit_amount):\n",
    "    \n",
    "    qr = QuantumRegister(2*qubit_amount-1)\n",
    "    cr = ClassicalRegister(2*qubit_amount-1)\n",
    "    qc = QuantumCircuit(qr, cr)\n",
    "    \n",
    "    even_list = list(range(0,2*qubit_amount,2))\n",
    "    odd_list = list(range(1,2*qubit_amount-1,2))\n",
    "    print(even_list, odd_list)\n",
    "    \n",
    "    qc.h(even_list)\n",
    "    qc.cx(even_list[:-1], odd_list)\n",
    "    qc.cx(even_list[1:], odd_list)\n",
    "    \n",
    "    qc.measure(qr, b1)\n",
    "    \n",
    "    return qc\n",
    "\n",
    "generate_generalized_ghz_state(5).draw('mpl')"
   ]
  },
  {
   "cell_type": "code",
   "execution_count": 42,
   "id": "40532e66-eb8c-4ac2-a504-d476ce243b2b",
   "metadata": {
    "tags": []
   },
   "outputs": [
    {
     "data": {
      "text/plain": [
       "qiskit.circuit.quantumregister.Qubit"
      ]
     },
     "execution_count": 42,
     "metadata": {},
     "output_type": "execute_result"
    }
   ],
   "source": [
    "qr = QuantumRegister(5)\n",
    "cr = ClassicalRegister(5)\n",
    "qc = QuantumCircuit(qr, cr)\n",
    "\n",
    "q0, q1, q2, q3, q4 = qr\n",
    "b0, b1, b2, b3, b4 = cr\n",
    "\n",
    "qc.h([0, 2, 4])\n",
    "qc.cx(0, 1)\n",
    "qc.cx(2, 3)\n",
    "qc.cx(2, 1)\n",
    "qc.cx(4, 3)\n",
    "\n",
    "# with qc.if_test((b0,1)):\n",
    "#     qc.h(q1)\n",
    "\n",
    "\n",
    "qc.measure(q1, b1)\n",
    "\n",
    "with qc.if_test((b1, 1)):\n",
    "    # if the condition is satisfied (b0 == 1), then flip the bit back to 0\n",
    "    qc.x(q2)\n",
    "    qc.x(q4)\n",
    "\n",
    "\n",
    "qc.measure(q3, b3)\n",
    "\n",
    "with qc.if_test((b3, 1)):\n",
    "    # if the condition is satisfied (b0 == 1), then flip the bit back to 0\n",
    "    qc.x(q4)\n",
    "\n",
    "qc.barrier()\n",
    "\n",
    "qc.measure(q0, b0)\n",
    "qc.measure(q2, b2)\n",
    "qc.measure(q4, b4)\n",
    "\n",
    "qc.draw(output=\"mpl\", idle_wires=True)\n",
    "type(qr[0])"
   ]
  },
  {
   "cell_type": "markdown",
   "id": "6e60d2be",
   "metadata": {},
   "source": [
    "### Generalized W State"
   ]
  },
  {
   "cell_type": "code",
   "execution_count": 5,
   "id": "ff8332f8",
   "metadata": {},
   "outputs": [],
   "source": [
    "from qiskit import QuantumCircuit, execute, Aer\n",
    "\n",
    "def generate_generalized_w_state(qubit_amount):\n",
    "    pass"
   ]
  },
  {
   "cell_type": "markdown",
   "id": "c9438637",
   "metadata": {},
   "source": [
    "# Results"
   ]
  },
  {
   "cell_type": "code",
   "execution_count": 18,
   "id": "4782cb99",
   "metadata": {},
   "outputs": [],
   "source": [
    "# TODO: evaluate the 2 solutions\n",
    "# the error rate when preparing the state (on a noisy simulator) should be low.\n",
    "# Measurement Error Mitigation\n",
    "# Import general libraries (needed for functions)\n",
    "import numpy as np\n",
    "import time\n",
    "\n",
    "# Import Qiskit classes\n",
    "import qiskit\n",
    "from qiskit import QuantumRegister, QuantumCircuit, ClassicalRegister, Aer\n",
    "from qiskit.providers.aer import noise\n",
    "from qiskit.tools.visualization import plot_histogram\n",
    "\n",
    "# Import measurement calibration functions\n",
    "from qiskit.ignis.mitigation.measurement import (complete_meas_cal, tensored_meas_cal, CompleteMeasFitter, TensoredMeasFitter)"
   ]
  },
  {
   "cell_type": "code",
   "execution_count": 25,
   "id": "7832ba74",
   "metadata": {},
   "outputs": [
    {
     "data": {
      "text/plain": [
       "([<qiskit.circuit.quantumcircuit.QuantumCircuit at 0x7fee71a6aaf0>,\n",
       "  <qiskit.circuit.quantumcircuit.QuantumCircuit at 0x7fee71a6a3d0>,\n",
       "  <qiskit.circuit.quantumcircuit.QuantumCircuit at 0x7fee71a6a4f0>,\n",
       "  <qiskit.circuit.quantumcircuit.QuantumCircuit at 0x7fee71a6ab20>,\n",
       "  <qiskit.circuit.quantumcircuit.QuantumCircuit at 0x7fee71acc6a0>,\n",
       "  <qiskit.circuit.quantumcircuit.QuantumCircuit at 0x7fee71accb20>,\n",
       "  <qiskit.circuit.quantumcircuit.QuantumCircuit at 0x7fee71acceb0>,\n",
       "  <qiskit.circuit.quantumcircuit.QuantumCircuit at 0x7fee71acc850>],\n",
       " ['000', '001', '010', '011', '100', '101', '110', '111'])"
      ]
     },
     "execution_count": 25,
     "metadata": {},
     "output_type": "execute_result"
    }
   ],
   "source": [
    "# Generate the calibration circuits\n",
    "def generate_calibration_circuits(qubit_amount):\n",
    "    qr = qiskit.QuantumRegister(qubit_amount)\n",
    "    # qubit_list = [2,3,4]\n",
    "    meas_calibs, state_labels = complete_meas_cal(\n",
    "        # qubit_list=qubit_list, \n",
    "        qr=qr, \n",
    "        circlabel='mcal')\n",
    "\n",
    "    return meas_calibs, state_labels\n",
    "\n",
    "generate_calibration_circuits(3)"
   ]
  },
  {
   "cell_type": "code",
   "execution_count": 29,
   "id": "b8704f1f",
   "metadata": {},
   "outputs": [],
   "source": [
    "# Computing the Calibration Matrix\n",
    "def compute_calibration_matrix(meas_calibs, state_labels):\n",
    "    backend = qiskit.Aer.get_backend('qasm_simulator')\n",
    "    job = qiskit.execute(meas_calibs, backend=backend, shots=1000)\n",
    "    cal_results = job.result()\n",
    "    \n",
    "    # The calibration matrix without noise is the identity matrix\n",
    "    meas_fitter = CompleteMeasFitter(cal_results, state_labels, circlabel='mcal')\n",
    "    print(\"Average Measurement Fidelity: %f\" % meas_fitter.readout_fidelity())\n",
    "\n",
    "    print(meas_fitter.cal_matrix)"
   ]
  },
  {
   "cell_type": "code",
   "execution_count": 30,
   "id": "ae113cec",
   "metadata": {},
   "outputs": [
    {
     "name": "stdout",
     "output_type": "stream",
     "text": [
      "Average Measurement Fidelity: 1.000000\n",
      "[[1. 0. 0. 0. 0. 0. 0. 0.]\n",
      " [0. 1. 0. 0. 0. 0. 0. 0.]\n",
      " [0. 0. 1. 0. 0. 0. 0. 0.]\n",
      " [0. 0. 0. 1. 0. 0. 0. 0.]\n",
      " [0. 0. 0. 0. 1. 0. 0. 0.]\n",
      " [0. 0. 0. 0. 0. 1. 0. 0.]\n",
      " [0. 0. 0. 0. 0. 0. 1. 0.]\n",
      " [0. 0. 0. 0. 0. 0. 0. 1.]]\n"
     ]
    }
   ],
   "source": [
    "# Execution\n",
    "qubit_amount=3\n",
    "meas_calibs, state_labels=generate_calibration_circuits(qubit_amount)\n",
    "compute_calibration_matrix(meas_calibs, state_labels)"
   ]
  },
  {
   "cell_type": "markdown",
   "id": "cc0c2123",
   "metadata": {},
   "source": [
    "## Plotting"
   ]
  },
  {
   "cell_type": "code",
   "execution_count": 68,
   "id": "deb40758",
   "metadata": {},
   "outputs": [],
   "source": [
    "# =========== FUNCTION DEFINITIONS ===========\n",
    "# Reference: https://qiskit.org/documentation/tutorials/simulators/2_device_noise_simulation.html"
   ]
  },
  {
   "cell_type": "code",
   "execution_count": 8,
   "id": "c42170f5",
   "metadata": {
    "tags": []
   },
   "outputs": [],
   "source": [
    "from qiskit import IBMQ, transpile\n",
    "from qiskit import QuantumCircuit\n",
    "from qiskit_aer import AerSimulator\n",
    "from qiskit.tools.visualization import plot_histogram\n",
    "\n",
    "from qiskit.providers.fake_provider import FakeVigo\n",
    "\n",
    "def plot_no_noise(circ):\n",
    "    sim_ideal = AerSimulator()\n",
    "    result = sim_ideal.run(transpile(circ, sim_ideal)).result()\n",
    "    counts = result.get_counts(0)\n",
    "    return counts\n",
    "\n",
    "def plot_noise(circ):\n",
    "    # Fake Provider Backends\n",
    "    device_backend = FakeVigo()\n",
    "\n",
    "    # vigo_simulator contains an approximate noise model consisting of:\n",
    "    # - Single-qubit gate errors consisting of a single qubit depolarizing error followed by a single qubit thermal relaxation error.\n",
    "    # - Two-qubit gate errors consisting of a two-qubit depolarizing error followed by single-qubit thermal relaxation errors on both qubits in the gate.\n",
    "    # - Single-qubit readout errors on the classical bit value obtained from measurements on individual qubits.\n",
    "    sim_vigo = AerSimulator.from_backend(device_backend)\n",
    "\n",
    "    # Transpile the circuit for the noisy basis gates\n",
    "    tcirc = transpile(circ, sim_vigo)\n",
    "\n",
    "    # Execute noisy simulation and get counts\n",
    "    result_noise = sim_vigo.run(tcirc).result()\n",
    "    counts_noise = result_noise.get_counts(0)\n",
    "    return counts_noise    "
   ]
  },
  {
   "cell_type": "code",
   "execution_count": 9,
   "id": "41d4134f",
   "metadata": {
    "tags": []
   },
   "outputs": [],
   "source": [
    "# =========== EXECUTION ==========="
   ]
  },
  {
   "cell_type": "code",
   "execution_count": 10,
   "id": "53b3f741",
   "metadata": {
    "tags": []
   },
   "outputs": [],
   "source": [
    "# VARIABLES\n",
    "qubit_amount=5"
   ]
  },
  {
   "cell_type": "code",
   "execution_count": 11,
   "id": "3bf41f58",
   "metadata": {
    "tags": []
   },
   "outputs": [],
   "source": [
    "# PLOTTING: NO NOISE\n",
    "# counts_no_noise=plot_no_noise(circ)\n",
    "# plot_histogram(counts_no_noise, title=f\"Ideal counts for {qubit_amount}-qubit GHZ state\")"
   ]
  },
  {
   "cell_type": "code",
   "execution_count": 14,
   "id": "f21405b6",
   "metadata": {
    "tags": []
   },
   "outputs": [
    {
     "name": "stdout",
     "output_type": "stream",
     "text": [
      "{'00111': 515, '00000': 509}\n"
     ]
    },
    {
     "data": {
      "image/png": "[encoded data removed]",
      "text/plain": [
       "<Figure size 504x360 with 1 Axes>"
      ]
     },
     "execution_count": 14,
     "metadata": {},
     "output_type": "execute_result"
    }
   ],
   "source": [
    "# PLOTTING: NOISE\n",
    "circ = generate_naive_ghz_state(qubit_amount)\n",
    "counts_noise=plot_noise(circ)\n",
    "plot_histogram(counts_noise,\n",
    "                   title=f\"NAIVE: Counts for {qubit_amount}-qubit GHZ state with device noise model\")"
   ]
  },
  {
   "cell_type": "code",
   "execution_count": 15,
   "id": "e4d5a5e6",
   "metadata": {
    "tags": []
   },
   "outputs": [
    {
     "data": {
      "image/png": "[encoded data removed]",
      "text/plain": [
       "<Figure size 504x360 with 1 Axes>"
      ]
     },
     "execution_count": 15,
     "metadata": {},
     "output_type": "execute_result"
    }
   ],
   "source": [
    "#generalized_circ = generate_generalized_ghz_state(qubit_amount)\n",
    "counts_noise=plot_noise(qc)\n",
    "plot_histogram(counts_noise,\n",
    "                   title=f\"generalized: Counts for {qubit_amount}-qubit GHZ state with device noise model\")"
   ]
  },
  {
   "cell_type": "code",
   "execution_count": null,
   "id": "3660f141-0173-4f60-851e-1078338b4801",
   "metadata": {},
   "outputs": [],
   "source": []
  }
 ],
 "metadata": {
  "kernelspec": {
   "display_name": "Python 3",
   "language": "python",
   "name": "python3"
  },
  "language_info": {
   "codemirror_mode": {
    "name": "ipython",
    "version": 3
   },
   "file_extension": ".py",
   "mimetype": "text/x-python",
   "name": "python",
   "nbconvert_exporter": "python",
   "pygments_lexer": "ipython3",
   "version": "3.9.13"
  }
 },
 "nbformat": 4,
 "nbformat_minor": 5
}
