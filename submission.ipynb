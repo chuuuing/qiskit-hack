{
 "cells": [
  {
   "cell_type": "markdown",
   "id": "d11fb2f3",
   "metadata": {},
   "source": [
    "# Q5's Teamwork"
   ]
  },
  {
   "cell_type": "markdown",
   "id": "1144d07d",
   "metadata": {},
   "source": [
    "- Aleksandar Mona Macko Puhek\n",
    "- Chuying He\n",
    "- Ioannis Lavdas\n",
    "- Lorena Mendez\n",
    "- Pantelis Fragkos"
   ]
  },
  {
   "cell_type": "markdown",
   "id": "47b53365",
   "metadata": {},
   "source": [
    "# Introduction"
   ]
  },
  {
   "cell_type": "markdown",
   "id": "2e0067d3",
   "metadata": {},
   "source": [
    "Multipartite entangled GHZ states were first proposed in 1989 <sup>[1]</sup> and experimentally confirmed in 1998 <sup>[2]</sup>. Since then, a number of qubits in entangled GHZ states and a number of quantum computer architectures realizing them has grown <sup>[3]</sup>. Quantum circuits realizing these states consists of parts generating these states and of parts verifying these states. Recently, an entangled GHZ state with 18 qubits was realized on an IBM quantum computer with fidelity of around one half <sup>[4]</sup>.  \n",
    "<br/>\n",
    "<i>\n",
    "[1] arXiv:0712.0921 <br/>\n",
    "[2] J.-W. Pan and A. Zeilinger, Phys. Rev. A. 57:2208 (1998)  <br/>\n",
    "[3] C. Song et al, Phys. Rev. Lett. 119:180511 (2017), T. Monz et al, Phys. Rev. Lett. 106:130506 (2011), X.-L. Wang et al, Phys. Rev. Lett. 120:260502 (2018)  <br/>\n",
    "[4] arXiv:1905..05720v1\n",
    "</i>"
   ]
  },
  {
   "cell_type": "markdown",
   "id": "e7bebc1f",
   "metadata": {},
   "source": [
    "# Idea"
   ]
  },
  {
   "cell_type": "markdown",
   "id": "ece5f05a",
   "metadata": {},
   "source": [
    "In this notebook, we implement two ways of generating a GHZ state tested on a quantum emulator based on an IBM quantum computer. Verification is performed with a multi-qubit metric tested previously on an IBM quantum computer which represents current state-of-the-art according to our knowledge <sup>[Ref. 4 in Introduction]</sup>.  \n",
    "\n",
    "We use emulators based on the following machine: ibm-lagos (7-qubits)."
   ]
  },
  {
   "cell_type": "markdown",
   "id": "4fa48784",
   "metadata": {},
   "source": [
    "# Solution"
   ]
  },
  {
   "cell_type": "markdown",
   "id": "680bacbb",
   "metadata": {},
   "source": [
    "## \"Naive\" GHZ State"
   ]
  },
  {
   "cell_type": "markdown",
   "id": "69585ce0",
   "metadata": {},
   "source": [
    "Quantum circuit is built in two parts, generation and verification."
   ]
  },
  {
   "attachments": {},
   "cell_type": "markdown",
   "id": "df4017ac",
   "metadata": {},
   "source": [
    "<img src=\"./assets/graph_naive.png\" alt=\"graph_naive\" width=\"500\" />"
   ]
  },
  {
   "cell_type": "markdown",
   "id": "5cedc3b8",
   "metadata": {},
   "source": [
    "### 1. Generation\n",
    "The generation part of the quantum circuit is built with the H-gate at the first qubit and CNOT gate connecting that gate with every other qubit in the circuit. The connection depends on the emulator used and a special coupling map between qubits is prepared."
   ]
  },
  {
   "cell_type": "code",
   "execution_count": 51,
   "id": "93d3ff46",
   "metadata": {
    "tags": []
   },
   "outputs": [],
   "source": [
    "from qiskit import QuantumCircuit, execute, Aer\n",
    "\n",
    "def generate_naive_ghz_state(qubit_amount):\n",
    "    \"\"\"Prepare a GHZ state with given qubit_amount using naive implementation.\n",
    "\n",
    "    Args:\n",
    "        qubit_amount (int): amount of the qubits\n",
    "\n",
    "    Returns:\n",
    "        QuantumCircuit: a QuantumCircuit object that generated using naive implementation\n",
    "    \"\"\"\n",
    "    # Initialize a quantum circuit with n qubits\n",
    "    qc = QuantumCircuit(qubit_amount)\n",
    "\n",
    "    # Apply a Hadamard gate to the first qubit\n",
    "    qc.h(0)\n",
    "\n",
    "    # Apply a CNOT gate between the first qubit and each of the other qubits\n",
    "    for i in range(1, qubit_amount):\n",
    "        qc.cx(0, i)\n",
    "\n",
    "    qc.measure_all()\n",
    "\n",
    "    return qc"
   ]
  },
  {
   "cell_type": "markdown",
   "id": "b4e39da7",
   "metadata": {},
   "source": [
    "### 2. Verification\n",
    "The verification part of quantum circuit is built following the refocused MQC (multiple quantum coherence) approach <sup>[4]</sup>. We first add the X-gate to each qubit for noise reduction. We than add an unitary operator equal to a value of angle multiplied with Z-gate and divided by half. Qubits are further connected by CNOT gates in reverse order to that of generation (for clarification of term \"reverse order\" consult Ref. 4 and Fig. 2D). The H-gate is added to the first qubit.\n",
    "### 3. Measurement\n",
    "Measurement is performed. The value of the angle has to be varied around the full circle in discrete steps of e.g. 30 circles (like in Ref. 4) and the circuit has to be run separately for each value.\n",
    "### 4. Fidelity calculation\n",
    "Fidelity of the circuit has to be compared to the ideal value for every angle <sup>[4]</sup>."
   ]
  },
  {
   "cell_type": "markdown",
   "id": "eee81e47",
   "metadata": {},
   "source": [
    "## Dynamic Circuit GHZ State"
   ]
  },
  {
   "cell_type": "markdown",
   "id": "99c4d214",
   "metadata": {},
   "source": [
    "### 1. Generation\n",
    "Quantum circuit is built in two parts, generation and verification. The generation part of the quantum circuit is built [to fill by PF]."
   ]
  },
  {
   "attachments": {},
   "cell_type": "markdown",
   "id": "23f84664",
   "metadata": {},
   "source": [
    "<img src=\"./assets/graph_dc.png\" alt=\"graph_dc\" width=\"500\" />"
   ]
  },
  {
   "cell_type": "code",
   "execution_count": 63,
   "id": "dc44f59f",
   "metadata": {
    "tags": []
   },
   "outputs": [],
   "source": [
    "from qiskit import QuantumCircuit, QuantumRegister, ClassicalRegister, execute, Aer\n",
    "\n",
    "def generate_dynamic_circuit_ghz_state(qubit_amount):\n",
    "    \"\"\"Prepare a GHZ state with given qubit_amount using DYNAMIC CIRCUIT implementation.\n",
    "\n",
    "    Args:\n",
    "        qubit_amount (int): amount of the qubits\n",
    "\n",
    "    Returns:\n",
    "        QuantumCircuit: a QuantumCircuit object\n",
    "    \"\"\"\n",
    "    total_qubit_amount = 2*qubit_amount-1\n",
    "    \n",
    "    qr = QuantumRegister(total_qubit_amount)\n",
    "    cr = ClassicalRegister(total_qubit_amount)\n",
    "    qc = QuantumCircuit(qr, cr)\n",
    "    \n",
    "    even_qubit_list = list(range(0,2*qubit_amount,2))\n",
    "    odd_qubit_list = list(range(1,2*qubit_amount-1,2))\n",
    "        \n",
    "    qc.h(even_qubit_list)\n",
    "    qc.cx(even_qubit_list[:-1], odd_qubit_list)\n",
    "    qc.cx(even_qubit_list[1:], odd_qubit_list)\n",
    "    \n",
    "    qc.measure(qr[1::2], cr[1::2])\n",
    "    \n",
    "    # Measure and perform conditional operations\n",
    "    n = total_qubit_amount\n",
    "    \n",
    "    for i in range(1, n, 2):\n",
    "        with qc.if_test((cr[i], 1)):\n",
    "            qc.x(list(range(i+1, n, 2)))\n",
    "    \n",
    "    qc.barrier()\n",
    "    \n",
    "    qc.measure(qr[::2], cr[::2])\n",
    "    \n",
    "    return qc"
   ]
  },
  {
   "cell_type": "markdown",
   "id": "fdf62869",
   "metadata": {},
   "source": [
    "### 2. Verification\n",
    "Design of the verification part of the quantum circuit is closely linked with the generation part, but we haven't arrived at the idea for it.\n",
    "\n",
    "### 3. Measurement\n",
    "We don't have a proposal.\n",
    "\n",
    "### 4. Fidelity calculation\n",
    "We don't have a proposal."
   ]
  },
  {
   "cell_type": "markdown",
   "id": "c9438637",
   "metadata": {},
   "source": [
    "# Results"
   ]
  },
  {
   "cell_type": "markdown",
   "id": "cc0c2123",
   "metadata": {},
   "source": [
    "## Plotting"
   ]
  },
  {
   "cell_type": "code",
   "execution_count": 89,
   "id": "c42170f5",
   "metadata": {
    "tags": []
   },
   "outputs": [],
   "source": [
    "from qiskit import IBMQ, transpile\n",
    "from qiskit import QuantumCircuit\n",
    "from qiskit_aer import AerSimulator\n",
    "from qiskit.tools.visualization import plot_histogram\n",
    "\n",
    "from qiskit.providers.fake_provider import FakeSherbrooke\n",
    "\n",
    "def plot_noise(qc):\n",
    "    \"\"\"calculate the distribution of the state\n",
    "\n",
    "    Args:\n",
    "        qc (QuantumCircuit): a QuantumCircuit object\n",
    "\n",
    "    Returns:\n",
    "        dictionary: a dictionary with state as key, and frequency as value. For example: {'10111': 2, '11010': 1, ...}\n",
    "    \"\"\"\n",
    "    # Fake Provider Backends\n",
    "    device_backend = FakeSherbrooke()\n",
    "\n",
    "    sim_sherbrooke = AerSimulator.from_backend(device_backend)\n",
    "\n",
    "    # Transpile the circuit for the noisy basis gates\n",
    "    t_qc = transpile(qc, sim_sherbrooke)\n",
    "    \n",
    "    # Execute noisy simulation and get counts\n",
    "    result_noise = sim_sherbrooke.run(t_qc).result()\n",
    "    counts_noise = result_noise.get_counts(0)\n",
    "    return counts_noise    "
   ]
  },
  {
   "cell_type": "code",
   "execution_count": 83,
   "id": "443101df",
   "metadata": {},
   "outputs": [],
   "source": [
    "def cluster_counts(counts_noise, qubit_amount):\n",
    "    \"\"\"clustered the statistics with only\n",
    "\n",
    "    Args:\n",
    "        counts_noise (dictionary): a dictionary with state as key, and frequency as value. For example: {'10011': 2, '11011': 1, ...}\n",
    "        qubit_amount (int): amount of the qubits\n",
    "\n",
    "    Returns:\n",
    "        dictionary: clustered dictionary with only necessary key  For example: {'101': 3, ...}\n",
    "    \"\"\"\n",
    "    new_counts = {}\n",
    "    for el in counts_noise: \n",
    "        even_list = [el[i] for i in range(0, qubit_amount*2-1, 2)]\n",
    "        try:\n",
    "            new_counts[\"\".join(even_list)] = new_counts[\"\".join(even_list)] + counts_noise[el]\n",
    "        except:\n",
    "            new_counts[\"\".join(even_list)] = counts_noise[el]\n",
    "    return new_counts"
   ]
  },
  {
   "cell_type": "markdown",
   "id": "21dcb40a",
   "metadata": {},
   "source": [
    "## Run"
   ]
  },
  {
   "cell_type": "code",
   "execution_count": 93,
   "id": "53b3f741",
   "metadata": {
    "tags": []
   },
   "outputs": [],
   "source": [
    "# INPUT VARIABLE\n",
    "qubit_amount=5"
   ]
  },
  {
   "cell_type": "code",
   "execution_count": null,
   "id": "f21405b6",
   "metadata": {
    "tags": []
   },
   "outputs": [],
   "source": [
    "# PLOTTING NAIVE & DYNAMIC CIRCUIT GHZ STATE\n",
    "## NAIVE\n",
    "naive_qc = generate_naive_ghz_state(qubit_amount)\n",
    "naive_counts_noise = plot_noise(naive_qc)\n",
    "\n",
    "## DYNAMIC CIRCUIT\n",
    "dc_qc = generate_dynamic_circuit_ghz_state(qubit_amount)\n",
    "dc_counts_noise=plot_noise(dc_qc)\n",
    "clusterd_dc_counts_noise = cluster_counts(dc_counts_noise, qubit_amount)\n",
    "\n",
    "## PLOTTING\n",
    "legend = [\"NAIVE\", \"DYNAMIC CIRCUIT\"]\n",
    "plot_histogram([naive_counts_noise,clusterd_dc_counts_noise],\n",
    "               legend=legend,\n",
    "               title=f\"Comparison: Counts for {qubit_amount}-qubit in NAIVE & DYNAMIC CIRCUIT GHZ state (with device noise model)\")"
   ]
  },
  {
   "cell_type": "markdown",
   "id": "91d16ced",
   "metadata": {},
   "source": [
    "# TODO"
   ]
  },
  {
   "cell_type": "code",
   "execution_count": 91,
   "id": "a7315679-3658-428d-a01c-5b86a571eb0a",
   "metadata": {},
   "outputs": [
    {
     "data": {
      "image/png": "[encoded data removed]",
      "text/plain": [
       "<Figure size 500x500 with 1 Axes>"
      ]
     },
     "execution_count": 91,
     "metadata": {},
     "output_type": "execute_result"
    }
   ],
   "source": [
    "from qiskit.visualization import plot_circuit_layout\n",
    "from qiskit.providers.fake_provider import FakeSherbrooke, FakeLagosV2\n",
    "\n",
    "# Fake Provider Backends\n",
    "device_backend = FakeSherbrooke()\n",
    "\n",
    "sim_sherbrooke = AerSimulator.from_backend(device_backend)\n",
    "\n",
    "# Transpile the circuit for the noisy basis gates\n",
    "t_qc = transpile(naive_qc, sim_sherbrooke)\n",
    "\n",
    "plot_circuit_layout(t_qc, device_backend)"
   ]
  },
  {
   "cell_type": "code",
   "execution_count": 58,
   "id": "e3f0466c",
   "metadata": {},
   "outputs": [
    {
     "name": "stdout",
     "output_type": "stream",
     "text": [
      "[[5, 4], [4, 5], [3, 1], [1, 3], [5, 6], [6, 5], [5, 3], [3, 5], [2, 1], [1, 2], [0, 1], [1, 0]]\n",
      "7\n"
     ]
    }
   ],
   "source": [
    "from qiskit.providers.models import BackendConfiguration\n",
    "# BackendConfiguration(device_backend, coupling_map)\n",
    "print(device_backend.coupling_map)\n",
    "\n",
    "print(device_backend.num_qubits)"
   ]
  }
 ],
 "metadata": {
  "kernelspec": {
   "display_name": "Python 3 (ipykernel)",
   "language": "python",
   "name": "python3"
  },
  "language_info": {
   "codemirror_mode": {
    "name": "ipython",
    "version": 3
   },
   "file_extension": ".py",
   "mimetype": "text/x-python",
   "name": "python",
   "nbconvert_exporter": "python",
   "pygments_lexer": "ipython3",
   "version": "3.9.4"
  }
 },
 "nbformat": 4,
 "nbformat_minor": 5
}
